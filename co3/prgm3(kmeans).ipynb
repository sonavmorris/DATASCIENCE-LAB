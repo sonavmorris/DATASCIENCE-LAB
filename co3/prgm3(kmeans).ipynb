{
  "nbformat": 4,
  "nbformat_minor": 0,
  "metadata": {
    "colab": {
      "provenance": [],
      "authorship_tag": "ABX9TyMMVcCe5l3eM1vzyh9NUSSP",
      "include_colab_link": true
    },
    "kernelspec": {
      "name": "python3",
      "display_name": "Python 3"
    },
    "language_info": {
      "name": "python"
    }
  },
  "cells": [
    {
      "cell_type": "markdown",
      "metadata": {
        "id": "view-in-github",
        "colab_type": "text"
      },
      "source": [
        "<a href=\"https://colab.research.google.com/github/sonavmorris/DATASCIENCE-LAB/blob/main/co3_prgm3(kmeans).ipynb\" target=\"_parent\"><img src=\"https://colab.research.google.com/assets/colab-badge.svg\" alt=\"Open In Colab\"/></a>"
      ]
    },
    {
      "cell_type": "code",
      "execution_count": null,
      "metadata": {
        "id": "YDNYasc2o9V1"
      },
      "outputs": [],
      "source": [
        "import pandas as pd\n",
        "from sklearn.cluster import KMeans"
      ]
    },
    {
      "cell_type": "code",
      "source": [
        "ds=pd.DataFrame({'private':['yes','no',],'age':[21,22,33,34],'sum':[1,2,3,3]})\n",
        "ds.to_csv('data.csv',index=0)\n",
        "data=pd.read_csv(' data.csv')\n",
        "data"
      ],
      "metadata": {
        "id": "HxdsOIjCqwui"
      },
      "execution_count": null,
      "outputs": []
    },
    {
      "cell_type": "code",
      "source": [
        "x=data.drop(columns=['private'])"
      ],
      "metadata": {
        "id": "pjClLd4TrbbV"
      },
      "execution_count": null,
      "outputs": []
    },
    {
      "cell_type": "code",
      "source": [
        "y=data['private']"
      ],
      "metadata": {
        "id": "dCZfOyNLrbXH"
      },
      "execution_count": null,
      "outputs": []
    },
    {
      "cell_type": "code",
      "source": [
        "from sklearn.model_selection import train_test_split"
      ],
      "metadata": {
        "id": "_SBJ35U9qws9"
      },
      "execution_count": null,
      "outputs": []
    },
    {
      "cell_type": "code",
      "source": [
        "x_train,x_test,y_train,y_test=train_test_split(x,y,test_size=0.5,tandom_state=30)"
      ],
      "metadata": {
        "id": "H3apZ0qAqwrR"
      },
      "execution_count": null,
      "outputs": []
    },
    {
      "cell_type": "code",
      "source": [
        "means=KMeans(n_clusters=2)"
      ],
      "metadata": {
        "id": "J-K1nWnsqwpf"
      },
      "execution_count": null,
      "outputs": []
    },
    {
      "cell_type": "code",
      "source": [
        "means.fit(x_train)"
      ],
      "metadata": {
        "id": "ndvoZKz9r_J8"
      },
      "execution_count": null,
      "outputs": []
    },
    {
      "cell_type": "code",
      "source": [
        "ypred=means.predict(x_test)"
      ],
      "metadata": {
        "id": "NeM4IsVLqwnK"
      },
      "execution_count": null,
      "outputs": []
    },
    {
      "cell_type": "code",
      "source": [
        "ypred"
      ],
      "metadata": {
        "id": "oxMs2uMCqwhN"
      },
      "execution_count": null,
      "outputs": []
    },
    {
      "cell_type": "code",
      "source": [
        "from sklearn import metrics"
      ],
      "metadata": {
        "id": "CpQmRNiMsD-W"
      },
      "execution_count": null,
      "outputs": []
    },
    {
      "cell_type": "code",
      "source": [
        "print(metrics.accuracyscore(y_test,ypred))"
      ],
      "metadata": {
        "id": "W9mRJrMYsLZt"
      },
      "execution_count": null,
      "outputs": []
    }
  ]
}
