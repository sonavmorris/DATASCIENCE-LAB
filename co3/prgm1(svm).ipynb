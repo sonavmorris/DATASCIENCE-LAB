{
  "nbformat": 4,
  "nbformat_minor": 0,
  "metadata": {
    "colab": {
      "provenance": [],
      "authorship_tag": "ABX9TyNTR2rLy/a49HwqiGxxzp8u",
      "include_colab_link": true
    },
    "kernelspec": {
      "name": "python3",
      "display_name": "Python 3"
    },
    "language_info": {
      "name": "python"
    }
  },
  "cells": [
    {
      "cell_type": "markdown",
      "metadata": {
        "id": "view-in-github",
        "colab_type": "text"
      },
      "source": [
        "<a href=\"https://colab.research.google.com/github/sonavmorris/DATASCIENCE-LAB/blob/main/co3/prgm1(svm).ipynb\" target=\"_parent\"><img src=\"https://colab.research.google.com/assets/colab-badge.svg\" alt=\"Open In Colab\"/></a>"
      ]
    },
    {
      "cell_type": "code",
      "execution_count": null,
      "metadata": {
        "id": "ZfC03tRdt9YD"
      },
      "outputs": [],
      "source": [
        "import nltk\n",
        "from nltk.corpus import stopwords\n",
        "import string\n",
        "import pandas as pd\n",
        "from sklearn import metrics\n",
        "from sklearn import svm\n",
        "from sklearn.feature_extraction.text import CountVectorizer\n",
        "from sklearn.feature_extraction.text import TfidfTransformer"
      ]
    },
    {
      "cell_type": "code",
      "source": [
        "data=pd.read_csv('SMSSpamCollection', sep='\\t', names=['label','message'])"
      ],
      "metadata": {
        "id": "KjzDuVur1MJk"
      },
      "execution_count": null,
      "outputs": []
    },
    {
      "cell_type": "code",
      "source": [
        "def preprocess(mess):\n",
        "   mess = [c for c in mess if c not in string.punctuation]\n",
        "    nonpunc = ''.join(mess)\n",
        "    clean = [c for c in nonpunc.split() if c.lower() not in stopwords.words('english')]\n",
        "    return clean"
      ],
      "metadata": {
        "id": "i2K3-mHf1MGH"
      },
      "execution_count": null,
      "outputs": []
    },
    {
      "cell_type": "code",
      "source": [
        "messages.message.apply(preprocess)"
      ],
      "metadata": {
        "id": "0OBaug_b1MEI"
      },
      "execution_count": null,
      "outputs": []
    },
    {
      "cell_type": "code",
      "source": [
        "message_bow = CountVectorizer(analyzer = preprocess).fit_transform(messages['message'])"
      ],
      "metadata": {
        "id": "QdzpV20x1MCt"
      },
      "execution_count": null,
      "outputs": []
    },
    {
      "cell_type": "code",
      "source": [
        "message_tfidf = TfidfTransformer().fit_transform(message_bow)"
      ],
      "metadata": {
        "id": "zNCI4qkZ1MAJ"
      },
      "execution_count": null,
      "outputs": []
    },
    {
      "cell_type": "code",
      "source": [
        "sv = svm.SVC()"
      ],
      "metadata": {
        "id": "AKlmwM7w1L6_"
      },
      "execution_count": null,
      "outputs": []
    },
    {
      "cell_type": "code",
      "source": [
        "sv.fit(message_tfidf, messages['label'])"
      ],
      "metadata": {
        "id": "ruSTlntPCjEZ"
      },
      "execution_count": null,
      "outputs": []
    },
    {
      "cell_type": "code",
      "source": [
        "pred = sv.predict(message_tfidf)"
      ],
      "metadata": {
        "id": "QN9GJGKmCjAg"
      },
      "execution_count": null,
      "outputs": []
    },
    {
      "cell_type": "code",
      "source": [
        "print(metrics.accuracy_score(messages['label'], pred))"
      ],
      "metadata": {
        "id": "St6hmdsXCq6g"
      },
      "execution_count": null,
      "outputs": []
    }
  ]
}