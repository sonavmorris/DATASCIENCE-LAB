{
  "nbformat": 4,
  "nbformat_minor": 0,
  "metadata": {
    "colab": {
      "name": "Untitled2.ipynb",
      "provenance": [],
      "authorship_tag": "ABX9TyNebpL30IFsUprDlcdfw32T",
      "include_colab_link": true
    },
    "kernelspec": {
      "name": "python3",
      "display_name": "Python 3"
    },
    "language_info": {
      "name": "python"
    }
  },
  "cells": [
    {
      "cell_type": "markdown",
      "metadata": {
        "id": "view-in-github",
        "colab_type": "text"
      },
      "source": [
        "<a href=\"https://colab.research.google.com/github/sonavmorris/DATASCIENCE-LAB/blob/main/knn.ipynb\" target=\"_parent\"><img src=\"https://colab.research.google.com/assets/colab-badge.svg\" alt=\"Open In Colab\"/></a>"
      ]
    },
    {
      "cell_type": "code",
      "execution_count": 17,
      "metadata": {
        "id": "pVqMIIW3gj3E"
      },
      "outputs": [],
      "source": [
        "import matplotlib.pyplot as plt\n",
        "import numpy as np\n",
        "import pandas as pd\n",
        "import seaborn as sns"
      ]
    },
    {
      "cell_type": "code",
      "source": [
        "from sklearn.preprocessing import StandardScaler"
      ],
      "metadata": {
        "id": "AzLyx4cQiFSK"
      },
      "execution_count": 18,
      "outputs": []
    },
    {
      "cell_type": "code",
      "source": [
        "scaler=StandardScaler()"
      ],
      "metadata": {
        "id": "WIgHxmZdi8ih"
      },
      "execution_count": 19,
      "outputs": []
    },
    {
      "cell_type": "code",
      "source": [
        "dataset=pd.read_csv('sonar.all-data.csv')"
      ],
      "metadata": {
        "id": "VkyZzbRxjDxw"
      },
      "execution_count": 20,
      "outputs": []
    },
    {
      "cell_type": "code",
      "source": [
        "scaler.fit(dataset.drop('R',axis=1))"
      ],
      "metadata": {
        "colab": {
          "base_uri": "https://localhost:8080/"
        },
        "id": "kfbDBTt-jyYo",
        "outputId": "f1676972-48eb-4280-a3b4-0073c48d120e"
      },
      "execution_count": 21,
      "outputs": [
        {
          "output_type": "execute_result",
          "data": {
            "text/plain": [
              "StandardScaler()"
            ]
          },
          "metadata": {},
          "execution_count": 21
        }
      ]
    },
    {
      "cell_type": "code",
      "source": [
        "scaled_features=scaler.transform(dataset.drop('R',axis=1))"
      ],
      "metadata": {
        "id": "IeeOH6GfkUfH"
      },
      "execution_count": 23,
      "outputs": []
    },
    {
      "cell_type": "code",
      "source": [
        "scaled_features"
      ],
      "metadata": {
        "colab": {
          "base_uri": "https://localhost:8080/"
        },
        "id": "fywXXxO3knbW",
        "outputId": "e027fc06-55da-4e9b-80ab-db571d4a4b56"
      },
      "execution_count": 24,
      "outputs": [
        {
          "output_type": "execute_result",
          "data": {
            "text/plain": [
              "array([[ 0.70018948,  0.42042142,  1.0529498 , ..., -0.4709383 ,\n",
              "        -0.44268846, -0.42246083],\n",
              "       [-0.13089402,  0.59942737,  1.71912994, ...,  1.30656071,\n",
              "         0.25299833,  0.25405324],\n",
              "       [-0.83579208, -0.64754631,  0.48045125, ..., -0.54822087,\n",
              "        -0.63683361,  1.03005467],\n",
              "       ...,\n",
              "       [ 1.00042384,  0.15949749, -0.67235266, ...,  0.90469137,\n",
              "        -0.0382194 , -0.68112798],\n",
              "       [ 0.0475061 , -0.09535845,  0.13434985, ..., -0.00724291,\n",
              "        -0.70154866, -0.34287094],\n",
              "       [-0.13959647, -0.06501846, -0.78685237, ..., -0.67187297,\n",
              "        -0.2970796 ,  0.99025973]])"
            ]
          },
          "metadata": {},
          "execution_count": 24
        }
      ]
    },
    {
      "cell_type": "code",
      "source": [],
      "metadata": {
        "id": "j01CSH-lkpmI"
      },
      "execution_count": null,
      "outputs": []
    }
  ]
}